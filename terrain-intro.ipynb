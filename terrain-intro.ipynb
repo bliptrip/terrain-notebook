{
 "cells": [
  {
   "cell_type": "markdown",
   "metadata": {},
   "source": [
    "# Overview\n",
    "\n",
    "Terrain is the web API that the CyVerse Discovery Environment uses to perform all of its tasks. Terrain is a REST-like web API. That is, it acts like a traditional web server in many ways. Requests that are sent to terrain are formatted just like a request that your browser might make in order to open a web page. Responses from Terrain are typically very similar to responses that your browser might receive from a request. The primary difference is the response format. The format that your browser receives from a web server will typically be formatted as a web page, whereas a response from Terrain will usually be a document formatted in JavaScript Object Notation (JSON). The primary reason for this difference is that JSON is easier for computers to read than HTML, and it's easier for humans to read than another common format in use on the internet, XML. If you're unfamiliar with JSON, DigitalOcean has this great [introduction](https://www.digitalocean.com/community/tutorials/an-introduction-to-json) that will quickly bring you up to speed.\n",
    "\n",
    "Without further ado, let's give Terrain a try! \n",
    "\n",
    "## Prerequisites\n",
    "\n",
    "Before we can use Terrain, we'll need some prerequisites. The `requests` library is an easy way to make requests to web services in Python, so let's import it so that we can use it later. It'll also be necessary to prompt for a password and to pretty-print some data structures."
   ]
  },
  {
   "cell_type": "code",
   "execution_count": null,
   "metadata": {},
   "outputs": [],
   "source": [
    "import getpass\n",
    "import pprint\n",
    "import requests"
   ]
  },
  {
   "cell_type": "markdown",
   "metadata": {},
   "source": [
    "## The Welcome Message\n",
    "\n",
    "Terrain has a bit of a goofy welcome message that you can see by hitting its root endpoint. The original purpose of the message was for developers to have an easy way to verify that Terrain was in fact running and responsive. We still use this endpoint on a regular basis, but now the calls to it are automated. For some reason, the computers don't find it as amusing as the humans do."
   ]
  },
  {
   "cell_type": "code",
   "execution_count": null,
   "metadata": {},
   "outputs": [],
   "source": [
    "r = requests.get(\"https://de.cyverse.org/terrain/\")\n",
    "r.raise_for_status()\n",
    "print(r.text)"
   ]
  },
  {
   "cell_type": "markdown",
   "metadata": {},
   "source": [
    "## Authentication\n",
    "\n",
    "To do anything interesting in terrain, you have to authenticate to the service. Terrain uses Apereo's [Central Authentication Service](https://apereo.github.io/cas/5.3.x/) OAuth provider for authentication. Typically you'd need to regsiter a client to allow you to authenticate directly to CAS, which can be a lot of work. For this reason, Terrain has an endpoint that you can use to obtain a token indirectly using Terrain's own OAuth client. But in order to get the access token, we'll need your password."
   ]
  },
  {
   "cell_type": "code",
   "execution_count": null,
   "metadata": {},
   "outputs": [],
   "source": [
    "print(\"Username: \", end='', flush=True)\n",
    "username = input()\n",
    "print(\"Password: \", end='', flush=True)\n",
    "password = getpass.getpass()"
   ]
  },
  {
   "cell_type": "markdown",
   "metadata": {},
   "source": [
    "And now we can obtain an access token."
   ]
  },
  {
   "cell_type": "code",
   "execution_count": null,
   "metadata": {},
   "outputs": [],
   "source": [
    "r = requests.get(\"https://de.cyverse.org/terrain/token\", auth=(username, password))\n",
    "r.raise_for_status()\n",
    "token = r.json()['access_token']\n",
    "auth_headers = {\"Authorization\": \"Bearer \" + token}"
   ]
  },
  {
   "cell_type": "markdown",
   "metadata": {},
   "source": [
    "## Searching for Apps\n",
    "\n",
    "_Now_ we can do something interesting. Suppose you've got an eight-hundred-word essay to write, and you want to use the Discovery Environment (DE) to make sure that your essay is long enough. You can use one of the DE's word count apps to find out!"
   ]
  },
  {
   "cell_type": "code",
   "execution_count": null,
   "metadata": {},
   "outputs": [],
   "source": [
    "query_params = {\"search\": \"DE Word Count\"}\n",
    "r = requests.get(\"https://de.cyverse.org/terrain/apps\", headers=auth_headers, params=query_params)\n",
    "r.raise_for_status()\n",
    "pprint.pprint(r.json())"
   ]
  },
  {
   "cell_type": "markdown",
   "metadata": {},
   "source": [
    "## Getting Analysis Submission Information\n",
    "\n",
    "Before you can submit an analysis to the Discovery Environment, you'll need to know how to pass parameters to the app. The endpoint to get information on how to submit an analysis for a specific app is `GET /terrain/apps/{system-id}/{app-id}`, where the System ID and app ID are fields obtained from the app listing returned by the previous endpoint. Since we still have the response body from the app lookup, we can extract the information we need from it."
   ]
  },
  {
   "cell_type": "code",
   "execution_count": null,
   "metadata": {},
   "outputs": [],
   "source": [
    "app_listing = r.json()[\"apps\"][0]\n",
    "system_id = app_listing[\"system_id\"]\n",
    "app_id = app_listing[\"id\"]\n",
    "print(\"System ID: \", system_id)\n",
    "print(\"App ID: \", app_id)"
   ]
  },
  {
   "cell_type": "markdown",
   "metadata": {},
   "source": [
    "Now calling the analysis submission information endpoint gives us the information we need."
   ]
  },
  {
   "cell_type": "code",
   "execution_count": null,
   "metadata": {},
   "outputs": [],
   "source": [
    "url = \"https://de.cyverse.org/terrain/apps/{0}/{1}\".format(system_id, app_id)\n",
    "r = requests.get(url, headers=auth_headers)\n",
    "r.raise_for_status()\n",
    "pprint.pprint(r.json())"
   ]
  },
  {
   "cell_type": "markdown",
   "metadata": {},
   "source": [
    "The output from this endpoint deserves a little explanation. At the top level, we have the basic app information such as the name, ID, and description of the app. The top level also contains a list labeled `groups`. These groups provide a way to place related parameters on the same panel in the app launch window in the DE. Each group contains a list of parameters, and the parameters themselves provide the information we need to submit the job.\n",
    "\n",
    "The primary piece of information that we're going to need from this file is the parameter ID for the input file name. We may as well grab it now."
   ]
  },
  {
   "cell_type": "code",
   "execution_count": null,
   "metadata": {},
   "outputs": [],
   "source": [
    "parameter_id = r.json()[\"groups\"][0][\"parameters\"][0][\"id\"]\n",
    "print(\"Parameter ID: \", parameter_id)"
   ]
  },
  {
   "cell_type": "markdown",
   "metadata": {},
   "source": [
    "## Building the Analysis Submission Request Body\n",
    "\n",
    "The analysis submission endpoint is the first endpoint we've encountered so far that has a request body, and this request body needs to be formatted correctly for the analysis submission to succeed. The request body looks something like this:\n",
    "\n",
    "``` json\n",
    "{\n",
    "  \"config\": {},\n",
    "  \"name\": \"string\",\n",
    "  \"app_id\": \"string\",\n",
    "  \"system_id\": \"string\",\n",
    "  \"debug\": false,\n",
    "  \"output_dir\": \"string\",\n",
    "  \"notify\": true\n",
    "}\n",
    "```\n",
    "\n",
    "I've taken the liberty of removing optional fields from the example. The fields are defined as follows:\n",
    "\n",
    "| Parameter Name | Description                                                                       |\n",
    "| -------------- | --------------------------------------------------------------------------------- |\n",
    "| config         | A map from parameter ID to parameter value.                                       |\n",
    "| name           | The name of the analysis.                                                         |\n",
    "| app_id         | The app ID from the submission information above.                                 |\n",
    "| system_id      | The system ID from the submission information above.                              |\n",
    "| debug          | This parameter can be used to enable debugging, which isn't necessary.            |\n",
    "| output_dir     | The path to the folder in the data store where the output files should be placed. |\n",
    "| notify         | This parameter can be used to enable or disable job status update notifications.  |\n",
    "\n",
    "So now we have to plug in the values. Suppose the essay whose words we have to count is at this path in the CyVerse data store: `/iplant/home/shared/workshop_material/terrain_intro/essay.txt`. And now we have enough information to format the request body.\n",
    "\n",
    "Keep in mind that the request body below is written in Python rather than JSON, so it will look slightly different from the JSON request body listed above. The `requests` library will convert this Python object to a JSON object for us before sending the request to terrain."
   ]
  },
  {
   "cell_type": "code",
   "execution_count": null,
   "metadata": {},
   "outputs": [],
   "source": [
    "request_body = {\n",
    "    \"config\": {\n",
    "        parameter_id: \"/iplant/home/shared/workshop_material/terrain_intro/essay.txt\"\n",
    "    },\n",
    "    \"name\": \"essay-word-count\",\n",
    "    \"app_id\": app_id,\n",
    "    \"system_id\": system_id,\n",
    "    \"debug\": False,\n",
    "    \"output_dir\": \"/iplant/home/\" + username + \"/analyses\",\n",
    "    \"notify\": True\n",
    "}\n",
    "pprint.pprint(request_body)"
   ]
  },
  {
   "cell_type": "markdown",
   "metadata": {},
   "source": [
    "Now we can finally submit the request."
   ]
  },
  {
   "cell_type": "code",
   "execution_count": null,
   "metadata": {},
   "outputs": [],
   "source": [
    "r = requests.post(\"https://de.cyverse.org/terrain/analyses\", headers=auth_headers, json=request_body)\n",
    "r.raise_for_status()\n",
    "pprint.pprint(r.json())"
   ]
  },
  {
   "cell_type": "markdown",
   "metadata": {},
   "source": [
    "## Listing Analyses\n",
    "\n",
    "At some point, you're going to want to be able to obtain a list of the analyses that you've submitted along with the status of each analysis. Fortunately obtaining this list is very easy."
   ]
  },
  {
   "cell_type": "code",
   "execution_count": null,
   "metadata": {},
   "outputs": [],
   "source": [
    "r = requests.get(\"https://de.cyverse.org/terrain/analyses\", headers=auth_headers)\n",
    "r.raise_for_status()\n",
    "pprint.pprint(r.json())"
   ]
  },
  {
   "cell_type": "markdown",
   "metadata": {},
   "source": [
    "## iRODS Tickets\n",
    "\n",
    "It's also possible to view and manage iRODS file and folder tickets through the Terrain API.\n",
    "First let's create a ticket on a file named \"demo.txt\" in your home folder (make sure this file exists first by uploading or creating it in the DE)."
   ]
  },
  {
   "cell_type": "code",
   "execution_count": null,
   "metadata": {},
   "outputs": [],
   "source": [
    "file_path = \"/iplant/home/\" + username + \"/demo.txt\"\n",
    "ticket_paths_request = {\n",
    "    \"paths\": [file_path]\n",
    "}\n",
    "pprint.pprint(ticket_paths_request)"
   ]
  },
  {
   "cell_type": "markdown",
   "metadata": {},
   "source": [
    "We will use this request JSON to submit the ticket creation request.\n",
    "The ticket creation endpoint also requires a `public` query parameter, which tells Terrain whether to make the ticket accessible to the public group."
   ]
  },
  {
   "cell_type": "code",
   "execution_count": null,
   "metadata": {},
   "outputs": [],
   "source": [
    "query_params = {\"public\": 1}\n",
    "r = requests.post(\"https://de.cyverse.org/terrain/secured/filesystem/tickets\", headers=auth_headers, params=query_params, json=ticket_paths_request)\n",
    "r.raise_for_status()\n",
    "pprint.pprint(r.json())\n",
    "\n",
    "ticket = r.json()[\"tickets\"][0][\"ticket-id\"]\n",
    "print(\"Ticket ID: \", ticket)"
   ]
  },
  {
   "cell_type": "markdown",
   "metadata": {},
   "source": [
    "Now we can list all the tickets that have been created for this file. We can use the same request JSON to submit the ticket listing request."
   ]
  },
  {
   "cell_type": "code",
   "execution_count": null,
   "metadata": {},
   "outputs": [],
   "source": [
    "r = requests.post(\"https://de.cyverse.org/terrain/secured/filesystem/list-tickets\", headers=auth_headers, json=ticket_paths_request)\n",
    "r.raise_for_status()\n",
    "pprint.pprint(r.json())"
   ]
  },
  {
   "cell_type": "markdown",
   "metadata": {},
   "source": [
    "Now the ticket can be used by any authenticated iRODS user to download this file. For example, the `iget` command below can be used with this ticket to download this file.\n",
    "\n",
    "Note that in order to actually run this command now, `icommands` should be installed and configured (with `iinit`) in order to actually download this file."
   ]
  },
  {
   "cell_type": "code",
   "execution_count": null,
   "metadata": {},
   "outputs": [],
   "source": [
    "!iget -vP -f -t {ticket} {file_path}"
   ]
  },
  {
   "cell_type": "markdown",
   "metadata": {},
   "source": [
    "Finally, we can delete the ticket we just created for this file. This time the request JSON contains the ticket instead of the file's path."
   ]
  },
  {
   "cell_type": "code",
   "execution_count": null,
   "metadata": {},
   "outputs": [],
   "source": [
    "tickets_request = {\n",
    "    \"tickets\": [ticket]\n",
    "}\n",
    "r = requests.post(\"https://de.cyverse.org/terrain/secured/filesystem/delete-tickets\", headers=auth_headers, json=tickets_request)\n",
    "r.raise_for_status()\n",
    "pprint.pprint(r.json())"
   ]
  },
  {
   "cell_type": "markdown",
   "metadata": {},
   "source": [
    "## Finding More Information\n",
    "\n",
    "At this point, it would be reasonable to ask where you might find more information about the Terrain API. The good news is that we have interactive [Swagger documentation](https://de.cyverse.org/terrain/docs/). The bad news is that this is a work in progress. Depending on how long it's been since our production deployment was updated, you _may_ be able to find a little more information in our [QA deployment swagger documentation](https://qa.cyverse.org/terrain/docs/), but keep in mind that the API in our QA deployment may not exactly match the API in our production deployment.\n",
    "\n",
    "If you can't find the documentation that you need in our Swagger documentation, you should be able to find the information that you need in our [old API documentation](https://cyverse-de.github.io/api/). The [endpoint index](https://cyverse-de.github.io/api/endpoint-index.html) contains links to all of the documented API endpoints.\n",
    "\n",
    "Finally, you can always log into the Discovery Environment and ask us for help using the Intercom chat widget in the lower right-hand corner."
   ]
  }
 ],
 "metadata": {
  "kernelspec": {
   "display_name": "Python 3",
   "language": "python",
   "name": "python3"
  },
  "language_info": {
   "codemirror_mode": {
    "name": "ipython",
    "version": 3
   },
   "file_extension": ".py",
   "mimetype": "text/x-python",
   "name": "python",
   "nbconvert_exporter": "python",
   "pygments_lexer": "ipython3",
   "version": "3.8.5"
  }
 },
 "nbformat": 4,
 "nbformat_minor": 4
}
